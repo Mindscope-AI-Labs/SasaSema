{
 "cells": [
  {
   "cell_type": "markdown",
   "metadata": {},
   "source": [
    "## **📘Sema Sasa Overview**  \n",
    "\n",
    "### **🌍Sema Sasa: Swahili AI for Speech & Text Processing**\n",
    "\n",
    "#### **1. Introduction**\n",
    "Sema AI is an **AI-powered linguistic platform** designed to promote Swahili as a **unifying language across Africa**. It provides:  \n",
    "✅ **Speech-to-Text (ASR)** – Converts spoken Swahili into text  \n",
    "✅ **Text Processing** – Paraphrasing & summarization  \n",
    "✅ **Translation** – Swahili ↔ English (future expansion to other African languages)  \n",
    "✅ **Conversational AI (Chatbot)** – Engaging in natural Swahili conversations  "
   ]
  },
  {
   "cell_type": "markdown",
   "metadata": {},
   "source": [
    "#### **2. System Architecture**\n",
    "Below is the architecture of **Sema Sasa**, showing how different models interact.\n",
    "\n",
    "![System Architecture](system_architecture1.png)\n",
    "\n",
    "📌 **Description of the Architecture:**  \n",
    "- 🗣️ **User Input (Audio or Text)** → **ASR Model (wav2vec 2.0)** → **Text Processing** (Paraphrasing, Summarization)  \n",
    "- 🔄 **Translation Model** (Swahili ↔ English) → **Chatbot (Rasa, DialoGPT)**  \n",
    "- 🚀 **FastAPI Backend** connects all components for real-time interaction  "
   ]
  },
  {
   "cell_type": "markdown",
   "metadata": {},
   "source": [
    "#### **3. Selected AI Models & Technologies**\n",
    "Sema Sasa consists of **four core modules**:  \n",
    "\n",
    "| **Component** | **Function** | **Model Used** |\n",
    "|--------------|-------------|---------------|\n",
    "| **ASR (Speech-to-Text)** | Converts Swahili speech into text | `wav2vec 2.0` |\n",
    "| **Text Processing** | Paraphrasing & summarization | `mT5, BART, DistilBERT` |\n",
    "| **Translation** | Swahili ↔ English | `NLLB-200, M2M-100, mBART` |\n",
    "| **Chatbot** | Conversational AI in Swahili | `DialoGPT, Rasa` |"
   ]
  },
  {
   "cell_type": "markdown",
   "metadata": {},
   "source": [
    "#### **4. Interactive Demo**\n",
    "You can try out the **ASR system** in this notebook! "
   ]
  },
  {
   "cell_type": "markdown",
   "metadata": {},
   "source": [
    "##### 🗣 **Step 1: Upload a Swahili audio file**\n",
    "Run the cell below and select an `.mp3` file."
   ]
  },
  {
   "cell_type": "code",
   "execution_count": 1,
   "metadata": {},
   "outputs": [
    {
     "data": {
      "application/vnd.jupyter.widget-view+json": {
       "model_id": "bf32ca32d678497a8c733f45c914333a",
       "version_major": 2,
       "version_minor": 0
      },
      "text/plain": [
       "FileUpload(value=(), accept='.wav', description='Upload')"
      ]
     },
     "metadata": {},
     "output_type": "display_data"
    }
   ],
   "source": [
    "import ipywidgets as widgets\n",
    "\n",
    "# File Upload Widget\n",
    "upload = widgets.FileUpload(accept=\".wav\", multiple=False)\n",
    "display(upload)\n"
   ]
  },
  {
   "cell_type": "markdown",
   "metadata": {
    "vscode": {
     "languageId": "plaintext"
    }
   },
   "source": [
    "##### 🎙 **Step 2: Transcribe the audio**\n",
    "Run the following cell to process and transcribe your Swahili audio."
   ]
  },
  {
   "cell_type": "code",
   "execution_count": 2,
   "metadata": {},
   "outputs": [
    {
     "name": "stdout",
     "output_type": "stream",
     "text": [
      "🎤 Transcription: kibaki ni mlezi wa shirika la chama cha viongozi wa sichana\n"
     ]
    }
   ],
   "source": [
    "# Import required libraries\n",
    "import torchaudio\n",
    "import torch\n",
    "from transformers import AutoProcessor, AutoModelForCTC\n",
    "\n",
    "# Load pre-trained ASR model\n",
    "device = \"cuda\" if torch.cuda.is_available() else \"cpu\"\n",
    "repo_name = \"eddiegulay/wav2vec2-large-xlsr-mvc-swahili\"\n",
    "processor = AutoProcessor.from_pretrained(repo_name)\n",
    "model = AutoModelForCTC.from_pretrained(repo_name).to(device)\n",
    "\n",
    "def transcribe_audio(audio_path):\n",
    "    audio_input, sample_rate = torchaudio.load(audio_path)\n",
    "    target_sample_rate = 16000\n",
    "    if sample_rate != target_sample_rate:\n",
    "        audio_input = torchaudio.transforms.Resample(orig_freq=sample_rate, new_freq=target_sample_rate)(audio_input)\n",
    "    \n",
    "    input_dict = processor(audio_input[0], sampling_rate=16000, return_tensors=\"pt\", padding=True)\n",
    "    input_values = input_dict[\"input_features\"] if \"input_features\" in input_dict else input_dict[\"input_values\"]\n",
    "    input_values = input_values.to(device)\n",
    "\n",
    "    with torch.no_grad():\n",
    "        logits = model(input_values).logits  \n",
    "    pred_ids = torch.argmax(logits, dim=-1)[0]\n",
    "    transcription = processor.decode(pred_ids)\n",
    "    \n",
    "    return transcription\n",
    "\n",
    "# Process uploaded file\n",
    "if upload.value:\n",
    "    uploaded_file = upload.value[0]  # Get the first file\n",
    "    file_name = uploaded_file.name\n",
    "    file_path = f\"./{file_name}\"\n",
    "\n",
    "    # Save the file\n",
    "    with open(file_path, \"wb\") as f:\n",
    "        f.write(uploaded_file.content)\n",
    "\n",
    "    # Perform transcription\n",
    "    transcript = transcribe_audio(file_path)\n",
    "    print(f\"🎤 Transcription: {transcript}\")"
   ]
  },
  {
   "cell_type": "markdown",
   "metadata": {},
   "source": [
    "#### **5. Running Sema Sasa**\n",
    "##### **Step 1: Install dependencies**\n",
    "```bash\n",
    "pip install -r requirements.txt\n",
    "```\n",
    "##### **Step 2: Run the interactive system**\n",
    "```bash\n",
    "python main.py\n",
    "```\n",
    "##### **Step 3: Use Jupyter Notebooks**\n",
    "```bash\n",
    "jupyter notebook\n",
    "```"
   ]
  },
  {
   "cell_type": "markdown",
   "metadata": {},
   "source": [
    "#### **6. Future Work**\n",
    "🔹 **Expand to other African languages**  \n",
    "🔹 **Improve accuracy for Swahili dialects**  \n",
    "🔹 **Deploy as a web/mobile application**  "
   ]
  },
  {
   "cell_type": "markdown",
   "metadata": {},
   "source": [
    "#### **7. Conclusion**\n",
    "Sema Sasa is a **game-changer** for Swahili language processing, enabling speech recognition, text enhancement, and AI-driven conversations. This project contributes to **linguistic AI equity** in Africa! 🚀🌍  \n"
   ]
  }
 ],
 "metadata": {
  "kernelspec": {
   "display_name": "sema",
   "language": "python",
   "name": "python3"
  },
  "language_info": {
   "codemirror_mode": {
    "name": "ipython",
    "version": 3
   },
   "file_extension": ".py",
   "mimetype": "text/x-python",
   "name": "python",
   "nbconvert_exporter": "python",
   "pygments_lexer": "ipython3",
   "version": "3.8.20"
  }
 },
 "nbformat": 4,
 "nbformat_minor": 2
}
